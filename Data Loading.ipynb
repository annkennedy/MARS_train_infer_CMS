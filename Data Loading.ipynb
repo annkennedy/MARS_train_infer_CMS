{
 "cells": [
  {
   "cell_type": "code",
   "execution_count": 1,
   "metadata": {},
   "outputs": [],
   "source": [
    "import os\n",
    "import MARS_train_test as mars\n",
    "import sys"
   ]
  },
  {
   "cell_type": "code",
   "execution_count": 2,
   "metadata": {},
   "outputs": [],
   "source": [
    "video_path = './'\n",
    "train_videos = [os.path.join('TRAIN_lite',v) for v in os.listdir(video_path+'TRAIN_lite')]\n",
    "test_videos = [os.path.join('TEST_lite',v) for v in os.listdir(video_path+'TEST_lite')]"
   ]
  },
  {
   "cell_type": "code",
   "execution_count": 3,
   "metadata": {},
   "outputs": [],
   "source": [
    "behs = {'sniff_face':    ['sniffface', 'snifface', 'sniff-face', 'sniff_face', 'head-investigation','facesniffing']}"
   ]
  },
  {
   "cell_type": "code",
   "execution_count": 6,
   "metadata": {
    "scrolled": true
   },
   "outputs": [
    {
     "name": "stdout",
     "output_type": "stream",
     "text": [
      "loaded file: Mouse060_20160526_18-16-27_raw_feat_top_v1_8.npz\n",
      "loaded file: Mouse161_20161017_19-30-58_raw_feat_top_v1_8.npz\n",
      "loaded file: Mouse204_20170414_14-31-10_114310_122795_raw_feat_top_v1_7.npz\n",
      "loaded file: Mouse074_20160709_19-15-23_raw_feat_top_v1_8.npz\n",
      "loaded file: Mouse204_20170407_18-01-14_110954_116699_raw_feat_top_v1_7.npz\n",
      "Feature file not found for Mouse1254_20190205_14-58-15_012691-015996\n",
      "Feature file not found for Mouse457_20180222_18-29-14_001868-009285\n",
      "loaded file: Mouse070_20160709_16-58-36_raw_feat_top_v1_8.npz\n",
      "Feature file not found for Mouse1254_20190205_14-58-15_020117-023619\n",
      "Feature file not found for Mouse1254_20190203_19-38-41_017650-021478\n",
      "Feature file not found for Mouse1254_20190205_14-58-15_016923-018587\n",
      "loaded file: Mouse062_20160526_18-56-26_raw_feat_top_v1_8.npz\n",
      "Feature file not found for Mouse1254_20190203_19-38-41_014330-016290\n",
      "loaded file: Mouse457_20180222_18-06-26_003267-017487_raw_feat_top_v1_7.npz\n",
      "Feature file not found for Mouse1254_20190203_19-38-41_024787-028705\n",
      "loaded file: Mouse158_20161018_15-46-30_raw_feat_top_v1_8.npz\n",
      "loaded file: Mouse069_20160709_16-02-03_raw_feat_top_v1_8.npz\n",
      "Feature file not found for Mouse1254_20190203_19-38-41_022438-023908\n",
      "loaded file: Mouse160_20161018_18-59-18_raw_feat_top_v1_8.npz\n",
      "Feature file not found for Mouse1254_20190205_14-58-15_024894-026692\n",
      "loaded file: Mouse204_20170214_22-34-23_058150_065598_raw_feat_top_v1_7.npz\n",
      "loaded file: Mouse457_20180222_18-29-14_009408-018640_raw_feat_top_v1_7.npz\n",
      "loaded file: Mouse204_20170214_22-34-23_030036_037904_raw_feat_top_v1_7.npz\n",
      "Feature file not found for Mouse1254_20190205_14-58-15_005858-011659\n",
      "loaded file: Mouse206_20170216_22-29-43_001005_008075_raw_feat_top_v1_7.npz\n",
      "loaded file: Mouse206_20170224_19-58-42_027309_037147_raw_feat_top_v1_7.npz\n",
      "Feature file not found for Mouse1254_20190203_19-38-41_010888-014159\n",
      "loaded file: Mouse156_20161017_17-09-39_raw_feat_top_v1_8.npz\n",
      "loaded file: Mouse063_20160526_19-14-46_raw_feat_top_v1_8.npz\n",
      "loaded file: Mouse061_20160526_18-38-49_raw_feat_top_v1_8.npz\n",
      "loaded file: Mouse163_20161018_18-22-45_raw_feat_top_v1_8.npz\n",
      "loaded file: Mouse077_20160709_18-29-34_raw_feat_top_v1_8.npz\n",
      "loaded file: Mouse157_20161017_17-36-12_raw_feat_top_v1_8.npz\n",
      "Feature file not found for Mouse1254_20190203_19-38-41_029787-032990\n",
      "loaded file: Mouse457_20180222_18-06-26_018056-027728_raw_feat_top_v1_7.npz\n",
      "loaded file: Mouse204_20170414_14-31-10_123685_132285_raw_feat_top_v1_7.npz\n",
      "loaded file: Mouse457_20180222_18-29-14_019553-030369_raw_feat_top_v1_7.npz\n",
      "Feature file not found for Mouse1254_20190203_19-38-41_005732-009406\n",
      "loaded file: Mouse162_20161017_19-58-28_raw_feat_top_v1_8.npz\n",
      "loaded file: Mouse160_20161017_18-57-00_raw_feat_top_v1_8.npz\n",
      "loaded file: Mouse204_20170224_18-07-32_048065_055600_raw_feat_top_v1_7.npz\n",
      "all files loaded\n",
      "fitting preprocessing parameters...\n",
      "done!\n",
      "\n"
     ]
    }
   ],
   "source": [
    "ver=[7,8]\n",
    "verbose=1\n",
    "feat_type = 'top'\n",
    "do_wnd = False\n",
    "do_cwt = False\n",
    "X_te_0, y_te, a, b = mars.load_data(video_path, test_videos, behs,\n",
    "                                  ver=ver, feat_type=feat_type, verbose=verbose, do_wnd=do_wnd, do_cwt=do_cwt)"
   ]
  },
  {
   "cell_type": "code",
   "execution_count": 8,
   "metadata": {},
   "outputs": [
    {
     "data": {
      "text/plain": [
       "(398520, 246)"
      ]
     },
     "execution_count": 8,
     "metadata": {},
     "output_type": "execute_result"
    }
   ],
   "source": [
    "X_te_0.shape"
   ]
  },
  {
   "cell_type": "code",
   "execution_count": 11,
   "metadata": {},
   "outputs": [
    {
     "data": {
      "text/plain": [
       "(398520,)"
      ]
     },
     "execution_count": 11,
     "metadata": {},
     "output_type": "execute_result"
    }
   ],
   "source": [
    "y_te['sniff_face'].shape"
   ]
  },
  {
   "cell_type": "code",
   "execution_count": 13,
   "metadata": {},
   "outputs": [],
   "source": [
    "behs['sniff_genital'] = ['sniffurogenital','sniffgenitals','sniff_genitals','sniff-genital','sniff_genital',\n",
    "                              'anogen-investigation']\n",
    "behs['sniff_body'] = ['sniff_body','sniffbody','bodysniffing','body-investigation','socialgrooming',\n",
    "                          'sniff-body','closeinvestigate','closeinvestigation','investigation']\n",
    "\n",
    "behs['sniff'] = ['sniffface', 'snifface', 'sniff-face', 'sniff_face', 'head-investigation','facesniffing',\n",
    "                      'sniffurogenital','sniffgenitals','sniff_genitals','sniff-genital','sniff_genital',\n",
    "                      'anogen-investigation','sniff_body', 'sniffbody', 'bodysniffing', 'body-investigation',\n",
    "                      'socialgrooming','sniff-body', 'closeinvestigate', 'closeinvestigation', 'investigation']\n",
    "\n",
    "behs['mount'] = ['mount','aggressivemount','intromission','dom_mount']\n",
    "behs ['attack'] = ['attack']"
   ]
  },
  {
   "cell_type": "code",
   "execution_count": 14,
   "metadata": {},
   "outputs": [
    {
     "name": "stdout",
     "output_type": "stream",
     "text": [
      "loaded file: Mouse060_20160526_18-16-27_raw_feat_top_v1_8.npz\n",
      "loaded file: Mouse161_20161017_19-30-58_raw_feat_top_v1_8.npz\n",
      "loaded file: Mouse204_20170414_14-31-10_114310_122795_raw_feat_top_v1_7.npz\n",
      "loaded file: Mouse074_20160709_19-15-23_raw_feat_top_v1_8.npz\n",
      "loaded file: Mouse204_20170407_18-01-14_110954_116699_raw_feat_top_v1_7.npz\n",
      "Feature file not found for Mouse1254_20190205_14-58-15_012691-015996\n",
      "Feature file not found for Mouse457_20180222_18-29-14_001868-009285\n",
      "loaded file: Mouse070_20160709_16-58-36_raw_feat_top_v1_8.npz\n",
      "Feature file not found for Mouse1254_20190205_14-58-15_020117-023619\n",
      "Feature file not found for Mouse1254_20190203_19-38-41_017650-021478\n",
      "Feature file not found for Mouse1254_20190205_14-58-15_016923-018587\n",
      "loaded file: Mouse062_20160526_18-56-26_raw_feat_top_v1_8.npz\n",
      "Feature file not found for Mouse1254_20190203_19-38-41_014330-016290\n",
      "loaded file: Mouse457_20180222_18-06-26_003267-017487_raw_feat_top_v1_7.npz\n",
      "Feature file not found for Mouse1254_20190203_19-38-41_024787-028705\n",
      "loaded file: Mouse158_20161018_15-46-30_raw_feat_top_v1_8.npz\n",
      "loaded file: Mouse069_20160709_16-02-03_raw_feat_top_v1_8.npz\n",
      "Feature file not found for Mouse1254_20190203_19-38-41_022438-023908\n",
      "loaded file: Mouse160_20161018_18-59-18_raw_feat_top_v1_8.npz\n",
      "Feature file not found for Mouse1254_20190205_14-58-15_024894-026692\n",
      "loaded file: Mouse204_20170214_22-34-23_058150_065598_raw_feat_top_v1_7.npz\n",
      "loaded file: Mouse457_20180222_18-29-14_009408-018640_raw_feat_top_v1_7.npz\n",
      "loaded file: Mouse204_20170214_22-34-23_030036_037904_raw_feat_top_v1_7.npz\n",
      "Feature file not found for Mouse1254_20190205_14-58-15_005858-011659\n",
      "loaded file: Mouse206_20170216_22-29-43_001005_008075_raw_feat_top_v1_7.npz\n",
      "loaded file: Mouse206_20170224_19-58-42_027309_037147_raw_feat_top_v1_7.npz\n",
      "Feature file not found for Mouse1254_20190203_19-38-41_010888-014159\n",
      "loaded file: Mouse156_20161017_17-09-39_raw_feat_top_v1_8.npz\n",
      "loaded file: Mouse063_20160526_19-14-46_raw_feat_top_v1_8.npz\n",
      "loaded file: Mouse061_20160526_18-38-49_raw_feat_top_v1_8.npz\n",
      "loaded file: Mouse163_20161018_18-22-45_raw_feat_top_v1_8.npz\n",
      "loaded file: Mouse077_20160709_18-29-34_raw_feat_top_v1_8.npz\n",
      "loaded file: Mouse157_20161017_17-36-12_raw_feat_top_v1_8.npz\n",
      "Feature file not found for Mouse1254_20190203_19-38-41_029787-032990\n",
      "loaded file: Mouse457_20180222_18-06-26_018056-027728_raw_feat_top_v1_7.npz\n",
      "loaded file: Mouse204_20170414_14-31-10_123685_132285_raw_feat_top_v1_7.npz\n",
      "loaded file: Mouse457_20180222_18-29-14_019553-030369_raw_feat_top_v1_7.npz\n",
      "Feature file not found for Mouse1254_20190203_19-38-41_005732-009406\n",
      "loaded file: Mouse162_20161017_19-58-28_raw_feat_top_v1_8.npz\n",
      "loaded file: Mouse160_20161017_18-57-00_raw_feat_top_v1_8.npz\n",
      "loaded file: Mouse204_20170224_18-07-32_048065_055600_raw_feat_top_v1_7.npz\n",
      "all files loaded\n",
      "fitting preprocessing parameters...\n",
      "done!\n",
      "\n"
     ]
    }
   ],
   "source": [
    "X, y, a, b = mars.load_data(video_path, test_videos, behs,\n",
    "                                  ver=ver, feat_type=feat_type, verbose=verbose, do_wnd=do_wnd, do_cwt=do_cwt)"
   ]
  },
  {
   "cell_type": "code",
   "execution_count": 15,
   "metadata": {},
   "outputs": [
    {
     "data": {
      "text/plain": [
       "(398520, 246)"
      ]
     },
     "execution_count": 15,
     "metadata": {},
     "output_type": "execute_result"
    }
   ],
   "source": [
    "X.shape"
   ]
  },
  {
   "cell_type": "code",
   "execution_count": 16,
   "metadata": {},
   "outputs": [
    {
     "data": {
      "text/plain": [
       "{'attack': array([0, 0, 0, ..., 0, 0, 0]),\n",
       " 'mount': array([0, 0, 0, ..., 0, 0, 0]),\n",
       " 'sniff': array([1, 1, 1, ..., 0, 0, 0]),\n",
       " 'sniff_body': array([0, 0, 0, ..., 0, 0, 0]),\n",
       " 'sniff_face': array([0, 0, 0, ..., 0, 0, 0]),\n",
       " 'sniff_genital': array([1, 1, 1, ..., 0, 0, 0])}"
      ]
     },
     "execution_count": 16,
     "metadata": {},
     "output_type": "execute_result"
    }
   ],
   "source": [
    "y"
   ]
  },
  {
   "cell_type": "code",
   "execution_count": 17,
   "metadata": {},
   "outputs": [
    {
     "data": {
      "text/plain": [
       "array([[ 0.99714326,  1.05017235,  0.81595488, ..., -0.50357872,\n",
       "        -0.54013188, -0.55524934],\n",
       "       [ 0.99103532,  1.07577475,  0.82092091, ..., -0.50357872,\n",
       "        -0.54013188, -0.55524934],\n",
       "       [ 0.98548665,  1.07666396,  0.8320891 , ...,  0.34332806,\n",
       "        -0.54013188, -0.55524934],\n",
       "       ..., \n",
       "       [-0.29539813,  1.53245962, -0.35505314, ..., -0.41764347,\n",
       "        -0.54013188, -0.55524934],\n",
       "       [-0.289629  ,  1.53302898, -0.35380367, ..., -0.50357872,\n",
       "        -0.54013188, -0.55524934],\n",
       "       [-0.28638612,  1.52860592, -0.35515448, ..., -0.50357872,\n",
       "        -0.54013188, -0.55524934]])"
      ]
     },
     "execution_count": 17,
     "metadata": {},
     "output_type": "execute_result"
    }
   ],
   "source": [
    "X"
   ]
  }
 ],
 "metadata": {
  "kernelspec": {
   "display_name": "Python 3",
   "language": "python",
   "name": "python3"
  },
  "language_info": {
   "codemirror_mode": {
    "name": "ipython",
    "version": 2
   },
   "file_extension": ".py",
   "mimetype": "text/x-python",
   "name": "python",
   "nbconvert_exporter": "python",
   "pygments_lexer": "ipython2",
   "version": "2.7.16"
  }
 },
 "nbformat": 4,
 "nbformat_minor": 4
}
